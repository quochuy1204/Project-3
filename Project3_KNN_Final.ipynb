{
  "nbformat": 4,
  "nbformat_minor": 0,
  "metadata": {
    "colab": {
      "name": "Project3_KNN.ipynb",
      "provenance": [],
      "collapsed_sections": [],
      "authorship_tag": "ABX9TyPNMFgr+a7VDYkZheZSE7W+",
      "include_colab_link": true
    },
    "kernelspec": {
      "name": "python3",
      "display_name": "Python 3"
    }
  },
  "cells": [
    {
      "cell_type": "markdown",
      "metadata": {
        "id": "view-in-github",
        "colab_type": "text"
      },
      "source": [
        "<a href=\"https://colab.research.google.com/github/quochuy1204/Project-3/blob/main/Project3_KNN_Final.ipynb\" target=\"_parent\"><img src=\"https://colab.research.google.com/assets/colab-badge.svg\" alt=\"Open In Colab\"/></a>"
      ]
    },
    {
      "cell_type": "code",
      "metadata": {
        "id": "Iw53o1BhixBN"
      },
      "source": [
        "import numpy as np\n",
        "import matplotlib.pyplot as plt\n",
        "from sklearn import neighbors, datasets"
      ],
      "execution_count": 3,
      "outputs": []
    },
    {
      "cell_type": "markdown",
      "metadata": {
        "id": "rtkhKhaXjuAT"
      },
      "source": [
        "Bước tiếp theo, chúng ta sẽ load dữ liệu và hiện thị ra 1 vài dữ liệu mẫu để check.\n"
      ]
    },
    {
      "cell_type": "code",
      "metadata": {
        "id": "sRvTAVQYjo2B",
        "colab": {
          "base_uri": "https://localhost:8080/"
        },
        "outputId": "336994c2-1987-43b0-b5fa-e9f6627e2d64"
      },
      "source": [
        "iris = datasets.load_iris();\n",
        "iris_X = iris.data;\n",
        "iris_Y = iris.target;\n",
        "print(\"Number of classes: %d\" %len(np.unique(iris_Y)));\n",
        "print(\"Number of data points: %d\" %len(iris_Y));\n",
        "\n",
        "X0 = iris_X[iris_Y == 0,:]; #Lấy ra tất cả data được gán nhãn là 0\n",
        "print(\"\\nSamples from class 0:\\n\" , X0[:5,:]); #In ra 5 ví dụ đầu tiên trong tập data X0\n",
        "\n",
        "X1 = iris_X[iris_Y == 1,:]; #Lấy ra tất cả data được gán nhãn là 1\n",
        "print(\"\\nSamples from class 1:\\n\" , X1[:5 ,:]); #In ra 5 ví dụ đầu tiên trong tập data X1\n",
        "\n",
        "X2 = iris_X[iris_Y == 2,:]; #Lấy ra tất cả data được gán nhãn là 2\n",
        "print(\"\\nSamples from class 2:\\n\" , X2[:5,:]); #In ra 5 ví dụ đầu tiên trong tập data X2"
      ],
      "execution_count": 4,
      "outputs": [
        {
          "output_type": "stream",
          "text": [
            "Number of classes: 3\n",
            "Number of data points: 150\n",
            "\n",
            "Samples from class 0:\n",
            " [[5.1 3.5 1.4 0.2]\n",
            " [4.9 3.  1.4 0.2]\n",
            " [4.7 3.2 1.3 0.2]\n",
            " [4.6 3.1 1.5 0.2]\n",
            " [5.  3.6 1.4 0.2]]\n",
            "\n",
            "Samples from class 1:\n",
            " [[7.  3.2 4.7 1.4]\n",
            " [6.4 3.2 4.5 1.5]\n",
            " [6.9 3.1 4.9 1.5]\n",
            " [5.5 2.3 4.  1.3]\n",
            " [6.5 2.8 4.6 1.5]]\n",
            "\n",
            "Samples from class 2:\n",
            " [[6.3 3.3 6.  2.5]\n",
            " [5.8 2.7 5.1 1.9]\n",
            " [7.1 3.  5.9 2.1]\n",
            " [6.3 2.9 5.6 1.8]\n",
            " [6.5 3.  5.8 2.2]]\n"
          ],
          "name": "stdout"
        }
      ]
    },
    {
      "cell_type": "markdown",
      "metadata": {
        "id": "ZUJMm8xdjr4M"
      },
      "source": [
        "Bước tiếp theo, chúng ta sẽ tách tập data set thành 1 tập data training và data test.\n"
      ]
    },
    {
      "cell_type": "code",
      "metadata": {
        "id": "pJ7Mbh0xnNa2",
        "colab": {
          "base_uri": "https://localhost:8080/"
        },
        "outputId": "f88f4319-e0f5-470b-966b-03b5c4552d15"
      },
      "source": [
        "from sklearn.model_selection import train_test_split; #Scikit-learn có hàm giúp chúng ta chia tập data set\n",
        "X_train, X_test , Y_train , Y_test = train_test_split(iris_X , iris_Y , test_size = 50); #Data set sẽ được chia thành 50 data cho tập test và data còn lại là tập training\n",
        "print(\"Training size: %d\" %len(Y_train)); #In ra số data trong tập train\n",
        "print(\"Test size: %d\" %len(Y_test)); #In ra số data trong tập test"
      ],
      "execution_count": 5,
      "outputs": [
        {
          "output_type": "stream",
          "text": [
            "Training size: 100\n",
            "Test size: 50\n"
          ],
          "name": "stdout"
        }
      ]
    },
    {
      "cell_type": "markdown",
      "metadata": {
        "id": "7YTTFUknS2qU"
      },
      "source": [
        "Trước tiên, mình sẽ xét trường hợp đơn giản nhất với K = 1, tức là với mỗi điểm data test, ta chỉ xét 1 điểm data training gần nhất và lấy label của điểm đó để dự đoán label cho điểm test này.\n"
      ]
    },
    {
      "cell_type": "code",
      "metadata": {
        "id": "Zs13IRQBmqEQ",
        "colab": {
          "base_uri": "https://localhost:8080/"
        },
        "outputId": "4e54511d-124e-415d-9086-e34090e5329a"
      },
      "source": [
        "clf = neighbors.KNeighborsClassifier(n_neighbors = 1 , p = 2); #Gọi hàm thực thi thuật toán KNN classifier với k = 1 và p = 2 tức là khoảng cách từ điểm data test tới data train được tính theo norm 2\n",
        "clf.fit(X_train , Y_train);\n",
        "Y_pred = clf.predict(X_test);\n",
        "\n",
        "print(\"Print results for 20 test data points: \");\n",
        "print(\"Predicted labels:\", Y_pred[20:40]);\n",
        "print(\"Ground truth    :\" , Y_test[20:40]);"
      ],
      "execution_count": 6,
      "outputs": [
        {
          "output_type": "stream",
          "text": [
            "Print results for 20 test data points: \n",
            "Predicted labels: [1 2 0 0 1 1 2 0 1 1 1 0 2 0 1 2 0 1 2 0]\n",
            "Ground truth    : [1 2 0 0 1 1 2 0 1 1 1 0 2 0 1 2 0 1 2 0]\n"
          ],
          "name": "stdout"
        }
      ]
    },
    {
      "cell_type": "markdown",
      "metadata": {
        "id": "VeCcRalgYFWk"
      },
      "source": [
        "Kết quả cho thấy, label dự đoán gần như chính xác hoàn toàn so với label thật của test data, chỉ có duy nhất 2 điểm trong số 20 điểm được hiện thị có kết quả sai lệch. Ground truth ở đây chính là nhãn/label/output thực sứ của các điểm trong test data.\n",
        "Bước tiếp theo, chúng ta sẽ đánh giá độ chính xác của thuật toán KNN classifier."
      ]
    },
    {
      "cell_type": "code",
      "metadata": {
        "id": "gSzZOtf9Ye6V",
        "colab": {
          "base_uri": "https://localhost:8080/"
        },
        "outputId": "2edda8d6-3365-4d5d-dc3d-4d3cde24a42a"
      },
      "source": [
        "from sklearn.metrics import accuracy_score;\n",
        "print(\"Accuracy of 1NN: %.2f %%\" %(100*accuracy_score(Y_test , Y_pred)));"
      ],
      "execution_count": 22,
      "outputs": [
        {
          "output_type": "stream",
          "text": [
            "Accuracy of 1NN: 94.00 %\n"
          ],
          "name": "stdout"
        }
      ]
    },
    {
      "cell_type": "markdown",
      "metadata": {
        "id": "kY12C_heY_GH"
      },
      "source": [
        "Như chúng ta thấy, kết quả cho ra là 98%, khá cao so với số K = 1. Tuy nhiên để nâng độ chính xác của thuật toán KNN trong bài toán classification chúng ta sẽ tiến tới bước tiếp theo đó là thử tăng số K lên."
      ]
    },
    {
      "cell_type": "code",
      "metadata": {
        "id": "bnkK4gCVZPeL",
        "colab": {
          "base_uri": "https://localhost:8080/"
        },
        "outputId": "1b2bc758-670f-42d9-c4f0-b22d6bdd4fce"
      },
      "source": [
        "clf = neighbors.KNeighborsClassifier(n_neighbors = 10 , p = 2 );\n",
        "clf.fit(X_train , Y_train);\n",
        "Y_pred = clf.predict(X_test);\n",
        "\n",
        "print(\"Accuracy of 10NN with major voting: %.2f %%\" %(100*accuracy_score(Y_test , Y_pred)));"
      ],
      "execution_count": 32,
      "outputs": [
        {
          "output_type": "stream",
          "text": [
            "Accuracy of 10NN with major voting: 94.00 %\n"
          ],
          "name": "stdout"
        }
      ]
    },
    {
      "cell_type": "code",
      "metadata": {
        "colab": {
          "base_uri": "https://localhost:8080/"
        },
        "id": "Jksuku7-tf1C",
        "outputId": "71395085-0c0b-4f70-b004-3117dce30557"
      },
      "source": [
        "from sklearn.metrics import recall_score;\n",
        "print(\"Recall of 10NN use Marco: %.2f %%\" %(100*recall_score(Y_test , Y_pred , average = 'macro')));"
      ],
      "execution_count": 37,
      "outputs": [
        {
          "output_type": "stream",
          "text": [
            "Recall of 10NN use Marco: 94.41 %\n"
          ],
          "name": "stdout"
        }
      ]
    }
  ]
}